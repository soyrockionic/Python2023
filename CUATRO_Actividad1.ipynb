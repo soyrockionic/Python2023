{
  "cells": [
    {
      "cell_type": "markdown",
      "id": "b015a19f",
      "metadata": {
        "id": "b015a19f"
      },
      "source": [
        "# Actividad 1  por Python plus - Parte I \n",
        "\n",
        "## Resolvé el siguiente desafío:"
      ]
    },
    {
      "cell_type": "markdown",
      "id": "4eff4f08",
      "metadata": {
        "id": "4eff4f08"
      },
      "source": [
        "**EJERCICIO 4:** dado el archivo denominado [log_catedras](https://archivos.linti.unlp.edu.ar/index.php/s/ofgZh41dUYMYX6H) que contiene  el registro de  accesos al entorno catedras.linti, se desea:\n",
        "1. Generar una función que retorne qué usuarios resolvieron al cuestionario de repaso de la clase 2, turno mañana, desde la facultad y en qué horario lo hicieron. Esto se puede chequear si la columna \"Contexto del evento\" contiene el texto \"Cuestionario: Repaso clase 2 - Turno mañana\", la columna \"Nombre evento\" contiene el texto \"Ha comenzado el intento\" y la dirección IP comienza con \"163.10.\" Esta función recibe un parámetro opcional que puede contener: \"A\", para pasar los nombres de usuario a mayúsculas: \"a\", para pasaarlos a mimúsculas o \"None\" si se dejan tal como se encuentran en el archivo. Por defecto la función retorna los nombres tales como aparecen en el archivo. \n",
        "\n",
        "2. Escribir un programa que, utilizando la función anterior, muestre un listado similar al siguiente:\n",
        " \n",
        "```\n",
        "----------------------------\n",
        "Usuario en el sistema   Hora\n",
        "----------------------------\n",
        "Butterfree         08:41:47\n",
        "Pikachu            08:41:47\n",
        "Oddish             08:41:47\n",
        "Kingler            08:41:47\n",
        "Tauros             08:41:47\n",
        "```"
      ]
    },
    {
      "cell_type": "code",
      "execution_count": 2,
      "id": "5021bb7c",
      "metadata": {
        "id": "5021bb7c"
      },
      "outputs": [],
      "source": [
        "import csv\n",
        "\n",
        "with open('log_catedras.csv',encoding='utf-8') as arch:\n",
        "    csv_reader = csv.reader(arch, delimiter=',')\n",
        "    enc, data = next(csv_reader), list(csv_reader)\n",
        "arch.close()"
      ]
    },
    {
      "cell_type": "code",
      "source": [
        "def respondieron_turno_mañana():\n",
        "    users = []\n",
        "    for user in data:\n",
        "        if(user[3] == \"Cuestionario: Repaso clase 2 - Turno mañana\"):\n",
        "            if(user[4] == \"Ha comenzado el intento\"):\n",
        "                if(user[6].startswith(\"163.10\")):\n",
        "                    users.append(user)\n",
        "    return users"
      ],
      "metadata": {
        "id": "EEyj7Thrx-HT"
      },
      "id": "EEyj7Thrx-HT",
      "execution_count": 3,
      "outputs": []
    },
    {
      "cell_type": "code",
      "source": [
        "r = respondieron_turno_mañana()\n",
        "\n",
        "print(\"-\"*26)\n",
        "print(f\"{enc[2]:<15}  {enc[0]}\")\n",
        "print(\"-\"*26)\n",
        "for u in r:\n",
        "   v = u[0].split(',')\n",
        "   print(f\"{u[2]:<15} {v[1]}\")"
      ],
      "metadata": {
        "colab": {
          "base_uri": "https://localhost:8080/"
        },
        "id": "QOkYJKtsxoK-",
        "outputId": "c4756df1-b1e3-4c68-b5b8-0721fbffd288"
      },
      "id": "QOkYJKtsxoK-",
      "execution_count": 4,
      "outputs": [
        {
          "output_type": "stream",
          "name": "stdout",
          "text": [
            "--------------------------\n",
            "Usuario afectado  Hora\n",
            "--------------------------\n",
            "Charizard        08:45:39\n",
            "Ponyta           08:44:51\n",
            "Kadabra          08:44:37\n",
            "Seadra           08:44:27\n",
            "Oddish           08:43:26\n",
            "Scyther          08:43:21\n",
            "Exeggutor        08:43:19\n",
            "Spearow          08:43:19\n",
            "Bulbasaur        08:43:06\n",
            "Lapras           08:43:03\n",
            "Doduo            08:43:03\n",
            "Weezing          08:43:00\n",
            "Carbink          08:42:53\n",
            "Diglett          08:42:50\n",
            "Geodude          08:42:47\n",
            "Beedrill         08:42:40\n",
            "Muk              08:42:36\n",
            "Bellsprout       08:42:35\n",
            "Victreebel       08:42:34\n",
            "Mr. Mime         08:42:33\n",
            "Charmander       08:42:30\n",
            "Machamp          08:42:29\n",
            "Omastar          08:42:27\n",
            "Poliwag          08:42:23\n",
            "Magikarp         08:42:23\n",
            "Arcanine         08:42:22\n",
            "Primeape         08:42:18\n",
            "Amaura           08:42:14\n",
            "Hitmonlee        08:41:54\n",
            "Cloyster         08:41:47\n"
          ]
        }
      ]
    }
  ],
  "metadata": {
    "kernelspec": {
      "display_name": "Python 3 (ipykernel)",
      "language": "python",
      "name": "python3"
    },
    "language_info": {
      "codemirror_mode": {
        "name": "ipython",
        "version": 3
      },
      "file_extension": ".py",
      "mimetype": "text/x-python",
      "name": "python",
      "nbconvert_exporter": "python",
      "pygments_lexer": "ipython3",
      "version": "3.11.2"
    },
    "colab": {
      "provenance": []
    }
  },
  "nbformat": 4,
  "nbformat_minor": 5
}